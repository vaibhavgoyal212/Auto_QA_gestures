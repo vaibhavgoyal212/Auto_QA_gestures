{
 "cells": [
  {
   "cell_type": "code",
   "execution_count": 183,
   "id": "cf7781b8",
   "metadata": {},
   "outputs": [],
   "source": [
    "import re\n",
    "import numpy as np\n",
    "import pandas as pd\n",
    "from sklearn.metrics import mean_squared_error\n",
    "from sklearn.metrics import mean_absolute_error\n",
    "import matplotlib.pyplot as plt"
   ]
  },
  {
   "cell_type": "markdown",
   "id": "fc557f1b",
   "metadata": {},
   "source": [
    "# Load MOS from the GENEA evaluation"
   ]
  },
  {
   "cell_type": "code",
   "execution_count": 184,
   "id": "a3df5c71",
   "metadata": {},
   "outputs": [],
   "source": [
    "labels_path = \"../Dataset/Appropriateness_Labels/mean_opinion_scores.csv\"\n",
    "YY_app = pd.read_csv(labels_path)\n",
    "app_index = [x for x in range(0,20)] + [x for x in range (80,100)] + [x for x in range(240,260)]\n",
    "YY_app = YY_app.iloc[app_index,:]\n",
    "\n",
    "labels_path = \"../Dataset/Human_Likeness_Labels/mean_opinion_scores.csv\"\n",
    "YY_hl = pd.read_csv(labels_path)\n",
    "hl_index = [x for x in range(0,20)] + [x for x in range (80,100)] + [x for x in range(200,220)]\n",
    "YY_hl = YY_hl.iloc[hl_index,:]"
   ]
  },
  {
   "cell_type": "code",
   "execution_count": 185,
   "id": "a018025b",
   "metadata": {},
   "outputs": [],
   "source": [
    "# Return Scores in Order: BA, N, New, SC\n",
    "def parse_text_file(path):\n",
    "    f = open(path, 'r')\n",
    "    lines = f.readlines()\n",
    "    lines = [re.findall(r'\\d+', x) for x in lines]\n",
    "    lines = [int(num) for num_list in lines for num in num_list]\n",
    "    lines = np.asarray(lines)\n",
    "    return lines"
   ]
  },
  {
   "cell_type": "code",
   "execution_count": 186,
   "id": "7cc4e0e5",
   "metadata": {},
   "outputs": [],
   "source": [
    "def parse_participant_scores(participant_path, survey):\n",
    "    scores = []\n",
    "    for i in range(1,21):\n",
    "        path = participant_path + '/StudySeq' + str(i) + '_' + survey + '.txt'\n",
    "        scores = scores + [parse_text_file(path)] \n",
    "    scores = np.asarray(scores)\n",
    "    return scores"
   ]
  },
  {
   "cell_type": "code",
   "execution_count": 187,
   "id": "6253701d",
   "metadata": {},
   "outputs": [],
   "source": [
    "def compare_scores_with_mos_mse(scores, YY):\n",
    "    scores = np.append(np.append(scores[:,0],scores[:,1]),scores[:,-1])\n",
    "    mse = mean_squared_error(YY.iloc[:,1].values, scores)\n",
    "    return mse"
   ]
  },
  {
   "cell_type": "code",
   "execution_count": 188,
   "id": "118ea496",
   "metadata": {},
   "outputs": [],
   "source": [
    "def compare_scores_with_mos_mae(scores, YY):\n",
    "    scores = np.append(np.append(scores[:,0],scores[:,1]),scores[:,-1])\n",
    "    mae = mean_absolute_error(YY.iloc[:,1].values, scores)\n",
    "    return mae"
   ]
  },
  {
   "cell_type": "markdown",
   "id": "99377ac2",
   "metadata": {},
   "source": [
    "# Converting survey data to a separate dataset and comparing with GENEA dataset"
   ]
  },
  {
   "cell_type": "code",
   "execution_count": 189,
   "id": "2ef41cb8",
   "metadata": {},
   "outputs": [
    {
     "name": "stdout",
     "output_type": "stream",
     "text": [
      "MSE of MOS from both datasets 70.11226048444091\n"
     ]
    }
   ],
   "source": [
    "participant_list = [x for x in range(1,11)]\n",
    "scores_list = []\n",
    "for i in participant_list:\n",
    "    participant = 'Participant ' + str(i)\n",
    "    scores = parse_participant_scores(participant, 'app')\n",
    "    scores_list = scores_list + [scores]\n",
    "scores_list = np.asarray(scores_list)\n",
    "scores = np.mean(scores_list, axis = 0)\n",
    "survey_dataset_app = np.append(np.append(scores[:,0],scores[:,1]),scores[:,-1])\n",
    "mse = mean_squared_error(survey_dataset_app, YY_app.iloc[:,1].values)\n",
    "print('MSE of MOS from both datasets', mse)"
   ]
  },
  {
   "cell_type": "code",
   "execution_count": 190,
   "id": "90c2cd67",
   "metadata": {},
   "outputs": [
    {
     "name": "stdout",
     "output_type": "stream",
     "text": [
      "MSE of MOS from both datasets 102.25340829147775\n"
     ]
    }
   ],
   "source": [
    "participant_list = [x for x in range(1,11)]\n",
    "scores_list = []\n",
    "for i in participant_list:\n",
    "    participant = 'Participant ' + str(i)\n",
    "    scores = parse_participant_scores(participant, 'hl')\n",
    "    scores_list = scores_list + [scores]\n",
    "scores_list = np.asarray(scores_list)\n",
    "scores = np.mean(scores_list, axis = 0)\n",
    "survey_dataset_hl = np.append(np.append(scores[:,0],scores[:,1]),scores[:,-1])\n",
    "mse = mean_squared_error(survey_dataset_hl, YY_hl.iloc[:,1].values)\n",
    "print('MSE of MOS from both datasets', mse)"
   ]
  },
  {
   "cell_type": "markdown",
   "id": "11924a39",
   "metadata": {},
   "source": [
    "# Treating participants as models and evaluating their errors"
   ]
  },
  {
   "cell_type": "markdown",
   "id": "291bb834",
   "metadata": {},
   "source": [
    "Participant MSE Graph for Appropriateness"
   ]
  },
  {
   "cell_type": "code",
   "execution_count": 191,
   "id": "d933f5a5",
   "metadata": {},
   "outputs": [
    {
     "name": "stdout",
     "output_type": "stream",
     "text": [
      "Mean MSE:  333.2319271511076\n"
     ]
    },
    {
     "data": {
      "image/png": "[encoded data removed]",
      "text/plain": [
       "<Figure size 432x288 with 1 Axes>"
      ]
     },
     "metadata": {
      "needs_background": "light"
     },
     "output_type": "display_data"
    }
   ],
   "source": [
    "participant_list = [x for x in range(1,11)]\n",
    "mse_list = []\n",
    "for i in participant_list:\n",
    "    participant = 'Participant ' + str(i)\n",
    "    scores = parse_participant_scores(participant, 'app')\n",
    "    mse = compare_scores_with_mos_mse(scores, YY_app)\n",
    "    mse_list = mse_list + [mse]\n",
    "    \n",
    "plt.scatter(participant_list, mse_list)\n",
    "print('Mean MSE: ', np.mean(mse_list))"
   ]
  },
  {
   "cell_type": "code",
   "execution_count": 192,
   "id": "a574e7c4",
   "metadata": {},
   "outputs": [
    {
     "name": "stdout",
     "output_type": "stream",
     "text": [
      "Mean MAE:  14.549942294799497\n"
     ]
    },
    {
     "data": {
      "image/png": "[encoded data removed]",
      "text/plain": [
       "<Figure size 432x288 with 1 Axes>"
      ]
     },
     "metadata": {
      "needs_background": "light"
     },
     "output_type": "display_data"
    }
   ],
   "source": [
    "participant_list = [x for x in range(1,11)]\n",
    "mae_list = []\n",
    "for i in participant_list:\n",
    "    participant = 'Participant ' + str(i)\n",
    "    scores = parse_participant_scores(participant, 'app')\n",
    "    mae = compare_scores_with_mos_mae(scores, YY_app)\n",
    "    mae_list = mae_list + [mae]\n",
    "    \n",
    "plt.scatter(participant_list, mae_list)\n",
    "print('Mean MAE: ', np.mean(mae_list))"
   ]
  },
  {
   "cell_type": "markdown",
   "id": "b6279015",
   "metadata": {},
   "source": [
    "Participant MSE Graph for Human-Likeness"
   ]
  },
  {
   "cell_type": "code",
   "execution_count": 193,
   "id": "ff24ec98",
   "metadata": {},
   "outputs": [
    {
     "name": "stdout",
     "output_type": "stream",
     "text": [
      "Mean MSE:  552.5625749581445\n"
     ]
    },
    {
     "data": {
      "image/png": "[encoded data removed]",
      "text/plain": [
       "<Figure size 432x288 with 1 Axes>"
      ]
     },
     "metadata": {
      "needs_background": "light"
     },
     "output_type": "display_data"
    }
   ],
   "source": [
    "participant_list = [x for x in range(1,11)]\n",
    "mse_list = []\n",
    "for i in participant_list:\n",
    "    participant = 'Participant ' + str(i)\n",
    "    scores = parse_participant_scores(participant, 'hl')\n",
    "    mse = compare_scores_with_mos(scores, YY_hl)\n",
    "    mse_list = mse_list + [mse]\n",
    "    \n",
    "plt.scatter(participant_list, mse_list)\n",
    "print('Mean MSE: ', np.mean(mse_list))"
   ]
  },
  {
   "cell_type": "code",
   "execution_count": 194,
   "id": "3f3964db",
   "metadata": {},
   "outputs": [
    {
     "name": "stdout",
     "output_type": "stream",
     "text": [
      "Mean MAE:  18.643434541457445\n"
     ]
    },
    {
     "data": {
      "image/png": "[encoded data removed]",
      "text/plain": [
       "<Figure size 432x288 with 1 Axes>"
      ]
     },
     "metadata": {
      "needs_background": "light"
     },
     "output_type": "display_data"
    }
   ],
   "source": [
    "participant_list = [x for x in range(1,11)]\n",
    "mae_list = []\n",
    "for i in participant_list:\n",
    "    participant = 'Participant ' + str(i)\n",
    "    scores = parse_participant_scores(participant, 'hl')\n",
    "    mae = compare_scores_with_mos_mae(scores, YY_hl)\n",
    "    mae_list = mae_list + [mae]\n",
    "    \n",
    "plt.scatter(participant_list, mae_list)\n",
    "print('Mean MAE: ', np.mean(mae_list))"
   ]
  },
  {
   "cell_type": "markdown",
   "id": "38378b90",
   "metadata": {},
   "source": [
    "# Compile GENEA data and survey data into a single dataset"
   ]
  },
  {
   "cell_type": "code",
   "execution_count": 195,
   "id": "5a8158c1",
   "metadata": {},
   "outputs": [],
   "source": [
    "labels_path = \"../Dataset/Appropriateness_Labels/participants_counts.csv\"\n",
    "YY_app_counts = pd.read_csv(labels_path)\n",
    "app_index = [x for x in range(0,20)] + [x for x in range (80,100)] + [x for x in range(240,260)]\n",
    "YY_app_counts = YY_app_counts.iloc[app_index,:]\n",
    "\n",
    "labels_path = \"../Dataset/Human_Likeness_Labels/participants_counts.csv\"\n",
    "YY_hl_counts = pd.read_csv(labels_path)\n",
    "hl_index = [x for x in range(0,20)] + [x for x in range (80,100)] + [x for x in range(200,220)]\n",
    "YY_hl_counts = YY_hl_counts.iloc[hl_index,:]"
   ]
  },
  {
   "cell_type": "code",
   "execution_count": 196,
   "id": "99d5d7fa",
   "metadata": {},
   "outputs": [
    {
     "name": "stdout",
     "output_type": "stream",
     "text": [
      "MSE between combined dataset and GENEA dataset:  7.650156966981948\n",
      "MSE between combined dataset and survey dataset:  54.16987287508549\n"
     ]
    }
   ],
   "source": [
    "genea_mos_frac = YY_hl.iloc[:,1] * (YY_hl_counts.iloc[:,1]/(YY_hl_counts.iloc[:,1]+10))\n",
    "survey_mos_frac = survey_dataset_hl * (10/(YY_hl_counts.iloc[:,1]+10))\n",
    "combined_dataset_hl = genea_mos_frac + survey_mos_frac\n",
    "print('MSE between combined dataset and GENEA dataset: ', mean_squared_error(combined_dataset_hl, YY_hl.iloc[:,1]))\n",
    "print('MSE between combined dataset and survey dataset: ', mean_squared_error(combined_dataset_hl, survey_dataset_hl))"
   ]
  },
  {
   "cell_type": "code",
   "execution_count": 197,
   "id": "fe63e8a6",
   "metadata": {},
   "outputs": [
    {
     "name": "stdout",
     "output_type": "stream",
     "text": [
      "MSE between combined dataset and GENEA dataset:  4.858706981867623\n",
      "MSE between combined dataset and survey dataset:  38.18804017385262\n"
     ]
    }
   ],
   "source": [
    "genea_mos_frac = YY_app.iloc[:,1] * (YY_app_counts.iloc[:,1]/(YY_app_counts.iloc[:,1]+10))\n",
    "survey_mos_frac = survey_dataset_app * (10/(YY_app_counts.iloc[:,1]+10))\n",
    "combined_dataset_app = genea_mos_frac + survey_mos_frac\n",
    "print('MSE between combined dataset and GENEA dataset: ', mean_squared_error(combined_dataset_app, YY_app.iloc[:,1]))\n",
    "print('MSE between combined dataset and survey dataset: ', mean_squared_error(combined_dataset_app, survey_dataset_app))"
   ]
  },
  {
   "cell_type": "markdown",
   "id": "2f490253",
   "metadata": {},
   "source": [
    "# Save the Combined and Survey Labels to csv filels"
   ]
  },
  {
   "cell_type": "code",
   "execution_count": 205,
   "id": "23ee40da",
   "metadata": {},
   "outputs": [],
   "source": [
    "YY_survey_hl = YY_hl.copy()\n",
    "YY_survey_hl.iloc[:,1] = survey_dataset_hl \n",
    "YY_survey_hl.to_csv('../Dataset/Human_Likeness_Labels/survey_labels.csv', index=False)\n",
    "\n",
    "YY_combined_hl = YY_hl.copy()\n",
    "YY_combined_hl.iloc[:,1] = combined_dataset_hl\n",
    "YY_combined_hl.to_csv('../Dataset/Human_Likeness_Labels/combined_labels.csv', index=False)\n",
    "\n",
    "YY_survey_app = YY_app.copy()\n",
    "YY_survey_app.iloc[:,1] = survey_dataset_app\n",
    "YY_survey_app.to_csv('../Dataset/Appropriateness_Labels/survey_labels.csv', index=False)\n",
    "\n",
    "YY_combined_app = YY_app.copy()\n",
    "YY_combined_app.iloc[:,1] = combined_dataset_app\n",
    "YY_combined_app.to_csv('../Dataset/Appropriateness_Labels/combined_labels.csv', index=False)"
   ]
  },
  {
   "cell_type": "code",
   "execution_count": null,
   "id": "f97037c4",
   "metadata": {},
   "outputs": [],
   "source": []
  }
 ],
 "metadata": {
  "kernelspec": {
   "display_name": "Python 3",
   "language": "python",
   "name": "python3"
  },
  "language_info": {
   "codemirror_mode": {
    "name": "ipython",
    "version": 3
   },
   "file_extension": ".py",
   "mimetype": "text/x-python",
   "name": "python",
   "nbconvert_exporter": "python",
   "pygments_lexer": "ipython3",
   "version": "3.8.8"
  }
 },
 "nbformat": 4,
 "nbformat_minor": 5
}
