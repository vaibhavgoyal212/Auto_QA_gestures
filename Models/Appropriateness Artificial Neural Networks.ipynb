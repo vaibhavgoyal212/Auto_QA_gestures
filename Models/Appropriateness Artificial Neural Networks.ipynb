{
 "cells": [
  {
   "cell_type": "code",
   "execution_count": 1,
   "id": "a40218f5",
   "metadata": {
    "scrolled": true
   },
   "outputs": [
    {
     "name": "stdout",
     "output_type": "stream",
     "text": [
      "Requirement already satisfied: keras in c:\\users\\cameron\\anaconda3\\envs\\tf\\lib\\site-packages (2.8.0)\n",
      "Note: you may need to restart the kernel to use updated packages.\n"
     ]
    }
   ],
   "source": [
    "pip install keras"
   ]
  },
  {
   "cell_type": "code",
   "execution_count": 1,
   "id": "4cff15bc",
   "metadata": {
    "scrolled": true
   },
   "outputs": [],
   "source": [
    "import wandb\n",
    "import tensorflow as tf\n",
    "from wandb.keras import WandbCallback\n",
    "from tensorflow import keras\n",
    "from keras.models import Sequential\n",
    "from tensorflow.keras.callbacks import EarlyStopping\n",
    "from tensorflow.keras.layers import LSTM\n",
    "from tensorflow.keras.layers import Dense\n",
    "import time\n",
    "import pandas as pd\n",
    "import numpy as np\n",
    "import matplotlib.pyplot as plt\n",
    "from sklearn.svm import SVR\n",
    "from sklearn.model_selection import train_test_split\n",
    "from sklearn.model_selection import GridSearchCV\n",
    "from sklearn.model_selection import KFold\n",
    "from sklearn.metrics import mean_squared_error\n",
    "from sklearn.metrics import mean_absolute_error\n",
    "from sklearn.pipeline import Pipeline\n",
    "from sklearn.feature_selection import RFECV\n",
    "from sklearn.model_selection import cross_val_score\n",
    "from sklearn.feature_selection import SequentialFeatureSelector\n",
    "from sklearn.kernel_ridge import KernelRidge\n",
    "from sklearn.linear_model import LinearRegression\n",
    "from sklearn.neighbors import KNeighborsRegressor\n",
    "from sklearn.decomposition import PCA\n",
    "from sklearn.model_selection import cross_validate\n",
    "from sklearn.linear_model import Ridge\n",
    "from scipy import stats\n",
    "import random\n",
    "from scipy.stats import sem\n",
    "from tensorflow.keras.wrappers.scikit_learn import KerasRegressor\n",
    "from sklearn.feature_selection import SelectKBest, mutual_info_regression"
   ]
  },
  {
   "cell_type": "markdown",
   "id": "77a9bbba",
   "metadata": {},
   "source": [
    "# Appropriateness Dataset without Augmented Data"
   ]
  },
  {
   "cell_type": "code",
   "execution_count": 2,
   "id": "28139901",
   "metadata": {},
   "outputs": [],
   "source": [
    "jerks_path = \"Dataset/Appropriateness_Features/mean_jerk_values.csv\"\n",
    "XX_jerks = pd.read_csv(jerks_path) # With Spine joint and Name of \"Cond/StudySeq\"\n",
    "\n",
    "accels_path = \"Dataset/Appropriateness_Features/mean_acceleration_values.csv\"\n",
    "XX_accels = pd.read_csv(accels_path) # With Spine joint and Name of \"Cond/StudySeq\"\n",
    "\n",
    "pairwise_path = \"Dataset/Appropriateness_Features/mean_pairwise_joint_distances.csv\"\n",
    "XX_pairwise = pd.read_csv(pairwise_path) # With Spine joint and Name of \"Cond/StudySeq\"\n",
    "XX_pairwise.drop(XX_pairwise.columns[range(1,15)], axis=1, inplace=True) # Without Spine Joint but with Name of \"Cond/StudySeq\"\n",
    "\n",
    "rms_properties_path = \"Dataset/Appropriateness_Features/RMS_Energy_properties.csv\"\n",
    "XX_rms_energy_properties = pd.read_csv(rms_properties_path, index_col = False) # With Name of StudySeq\n",
    "\n",
    "rms_distance_path = \"Dataset/Appropriateness_Features/RMS_Distance_scores_fd_scaled.csv\"\n",
    "XX_rms_distance_scores = pd.read_csv(rms_distance_path)\n",
    "XX_rms_distance_scores.drop(XX_rms_distance_scores.columns[1], axis=1, inplace=True) # Dropping the Spine joint (always 0)\n",
    "\n",
    "labels_path = \"Dataset/Appropriateness_Labels/mean_opinion_scores.csv\"\n",
    "YY = pd.read_csv(labels_path) # # With Name of \"Cond/StudySeq\""
   ]
  },
  {
   "cell_type": "code",
   "execution_count": 3,
   "id": "c5c77f31",
   "metadata": {},
   "outputs": [],
   "source": [
    "XY = XX_jerks.join(YY, lsuffix=\"_jerks\", rsuffix=\"_YY\")\n",
    "XY = XY.join(XX_accels, rsuffix='_accels')\n",
    "XY = XY.rename(columns={'Unnamed: 0': 'Unnamed: 0_accels'})\n",
    "XY = XY.join(XX_pairwise, rsuffix='_pairwise')\n",
    "XY = XY.rename(columns={'Unnamed: 0': 'Unnamed: 0_pairwise'})\n",
    "XY = XY.join(XX_rms_distance_scores)\n",
    "XY = XY.rename(columns={'Unnamed: 0': 'Unnamed: 0_rms_distance_scores'})"
   ]
  },
  {
   "cell_type": "code",
   "execution_count": 4,
   "id": "7d5d47de",
   "metadata": {},
   "outputs": [],
   "source": [
    "# Join the RMS Energy Properties Features\n",
    "XY = XY.rename(columns={'Unnamed: 0_jerks': 'StudySeq'})\n",
    "XY['StudySeq'] = XY['StudySeq'].apply(lambda x: x[8:])\n",
    "XY = XY.join(XX_rms_energy_properties, rsuffix='_rms')\n",
    "for i in range(1,int(XY.shape[0]/40)):\n",
    "    XY.iloc[i*40:(i+1)*40,-5:] = XX_rms_energy_properties"
   ]
  },
  {
   "cell_type": "code",
   "execution_count": 5,
   "id": "3f792923",
   "metadata": {},
   "outputs": [
    {
     "name": "stdout",
     "output_type": "stream",
     "text": [
      "(360, 137)\n"
     ]
    }
   ],
   "source": [
    "# Drop the Names of \"Cond/StudySeq\" and remaining information relating to the \"Spine\" joint\n",
    "# Also Drop the Index from rms_energy\n",
    "XY.drop(['StudySeq','Unnamed: 0_YY','Unnamed: 0_accels', 'Unnamed: 0_pairwise', 'Spine', 'Spine_accels',\n",
    "        'Unnamed: 0_rms_distance_scores', 'Unnamed: 0', 'StudySeq_rms'], axis=1, inplace=True)\n",
    "\n",
    "rename_dict = dict(zip(XY.columns[0:14], XY.columns[0:14] + '_jerks'))\n",
    "XY = XY.rename(columns=rename_dict)\n",
    "\n",
    "# Jerk for 14 joints + Acceleration for 14 joints + 14 choose 2 pairwise distance + 14 RMS Energy Distance Scores + 3 RMS Energy Property Features + Label for MOS = 137\n",
    "print(XY.shape)"
   ]
  },
  {
   "cell_type": "code",
   "execution_count": 6,
   "id": "6ab2d934",
   "metadata": {},
   "outputs": [
    {
     "name": "stdout",
     "output_type": "stream",
     "text": [
      "(360, 130)\n",
      "(360,)\n"
     ]
    }
   ],
   "source": [
    "XX = XY.drop(['Mean_Appropriateness_Score'], axis=1, inplace=False)\n",
    "bad_features = ['LeftShoulder_vs_LeftArm', 'LeftArm_vs_LeftForeArm', 'LeftForeArm_vs_LeftHand',\n",
    "                'RightShoulder_vs_RightArm', 'RightArm_vs_RightForeArm','RightForeArm_vs_RightHand']\n",
    "XX.drop(bad_features, axis=1, inplace=True)\n",
    "YY = XY.loc[:,'Mean_Appropriateness_Score']\n",
    "XX = np.log(XX)\n",
    "XX.iloc[:,-17:-3] = XX.iloc[:,-17:-3]\n",
    "print(XX.shape)\n",
    "print(YY.shape)"
   ]
  },
  {
   "cell_type": "markdown",
   "id": "b0cda459",
   "metadata": {},
   "source": [
    "# Functions"
   ]
  },
  {
   "cell_type": "code",
   "execution_count": 7,
   "id": "3408af8f",
   "metadata": {},
   "outputs": [],
   "source": [
    "def validation_curve(model, XX, YY, param_grid, log_bool, extra_string, xticks, x_vals, xlabel):\n",
    "    n_splits = 5\n",
    "    outer_loop_cv = KFold(n_splits = n_splits, shuffle = True)\n",
    "    outer_val_mse = []\n",
    "    outer_train_mse = []\n",
    "    folds = outer_loop_cv.split(XX)\n",
    "    count = 1\n",
    "    for train, test in folds:\n",
    "        XX_train = XX.iloc[train]\n",
    "        YY_train = YY.iloc[train]\n",
    "        YY_train = YY_train.values.flatten()\n",
    "        \n",
    "        cv_model = GridSearchCV(estimator = model, param_grid = param_grid, scoring = \"neg_mean_squared_error\", \n",
    "                                    cv = KFold(n_splits = 5, shuffle = True), return_train_score=True)\n",
    "        callback = tf.keras.callbacks.EarlyStopping(monitor='loss', patience=20)\n",
    "        \n",
    "        cv_model.fit(XX_train, YY_train, epochs=250, batch_size=288, verbose=False, shuffle=True, callbacks = [callback])\n",
    "        \n",
    "        \n",
    "        train_mse = -1 * cv_model.cv_results_[\"mean_train_score\"]\n",
    "        val_mse = -1 * cv_model.cv_results_[\"mean_test_score\"]\n",
    "        \n",
    "        outer_train_mse = outer_train_mse + [train_mse]\n",
    "        outer_val_mse = outer_val_mse + [val_mse]\n",
    "        print('Fold ', count, '/', n_splits, ' Complete.')\n",
    "        count = count + 1\n",
    "        \n",
    "    mean_train_mse = np.mean(np.asarray(outer_train_mse), axis=0)\n",
    "    mean_val_mse = np.mean(np.asarray(outer_val_mse), axis=0)\n",
    "    \n",
    "    train_mse_sem = sem(np.asarray(outer_train_mse), axis=0)\n",
    "    val_mse_sem = sem(np.asarray(outer_val_mse), axis=0)\n",
    "    \n",
    "    plt.figure(figsize = (6,4))\n",
    "    plt.plot(x_vals, mean_train_mse, label='Training Set MSE')\n",
    "    plt.fill_between(x_vals, mean_train_mse - train_mse_sem, mean_train_mse + train_mse_sem, alpha=0.5)\n",
    "    plt.plot(x_vals, mean_val_mse, label='Validation Set MSE')\n",
    "    plt.fill_between(x_vals, mean_val_mse - val_mse_sem, mean_val_mse + val_mse_sem, alpha=0.5)\n",
    "    if log_bool == True:\n",
    "        plt.xscale('log')\n",
    "    plt.xlim(min(xticks),max(xticks))\n",
    "    plt.xticks(xticks)\n",
    "    plt.ylim(0, max([max(mean_train_mse), max(mean_val_mse)]) + max([max(train_mse_sem), max(val_mse_sem)]))\n",
    "    plt.ylabel('MSE')\n",
    "    plt.xlabel(xlabel)\n",
    "    plt.title('ANN performance on varying ' + extra_string)\n",
    "    plt.legend()\n",
    "    \n",
    "    print('Best Param: ', x_vals[np.where(mean_val_mse == min(mean_val_mse))])\n",
    "    "
   ]
  },
  {
   "cell_type": "code",
   "execution_count": 8,
   "id": "922069ff",
   "metadata": {},
   "outputs": [],
   "source": [
    "def predicted_vs_true(model, XX, YY, epochs, validation_split, batch_size, callback):\n",
    "    n_splits = 5\n",
    "    outer_loop_cv = KFold(n_splits = n_splits, shuffle = True)\n",
    "    folds = outer_loop_cv.split(XX)\n",
    "    count = 1\n",
    "    YY_train_true = []\n",
    "    YY_train_preds = []\n",
    "    YY_preds = []\n",
    "    YY_true = []\n",
    "    model.save_weights('initial_app.h5')\n",
    "    for train, test in folds:\n",
    "        model.load_weights('initial_app.h5')\n",
    "        XX_train = XX.iloc[train]\n",
    "        YY_train = YY.iloc[train]\n",
    "        XX_test= XX.iloc[test]\n",
    "        YY_test = YY.iloc[test]\n",
    "        YY_train, YY_test = YY_train.values.flatten(), YY_test.values.flatten()\n",
    "        \n",
    "        model.fit(XX_train, YY_train, epochs=epochs, validation_split=validation_split,\n",
    "                  batch_size=batch_size, verbose = 0, callbacks = [callback])\n",
    "        \n",
    "        YY_train_preds = YY_train_preds + list(model.predict(XX_train))\n",
    "        YY_train_true = YY_train_true + list(YY_train)\n",
    "        \n",
    "        YY_pred = model.predict(XX_test).flatten()\n",
    "        \n",
    "        YY_true = YY_true + list(YY_test)\n",
    "        YY_preds = YY_preds + list(YY_pred)\n",
    "        print('Fold ', count, '/', n_splits, ' Complete.')\n",
    "        count = count + 1\n",
    "    \n",
    "    m, b = np.polyfit(YY_preds, YY_true, 1)\n",
    "    x = np.arange(0,101)\n",
    "    y = np.arange(0,101)\n",
    "    \n",
    "    plt.figure(figsize = (7,7))\n",
    "    plt.scatter(YY_preds, YY_true, s=7.5, alpha=0.8, label='Predictions')\n",
    "    plt.plot(x, y*m + b, '-c', label=\"Regression Line for predictions\")\n",
    "    plt.plot(x, y, \"-k\", label=\"Regression Line for p=1\", alpha=0.5)\n",
    "    plt.title(\"Predictions of ANN on Test Set\")\n",
    "    plt.ylabel(\"True Appropriateness\")\n",
    "    plt.xlabel(\"Predicted Appropriateness\")\n",
    "    plt.xticks(np.linspace(0,100,11))\n",
    "    plt.yticks(np.linspace(0,100,11))\n",
    "    plt.xlim(0,100)\n",
    "    plt.ylim(0,100)\n",
    "    plt.legend()\n",
    "\n",
    "    rho, pval = stats.spearmanr(YY_true, YY_preds)\n",
    "    print(\"Pearson Correlation Coefficient =\", rho)\n",
    "    print(\"Test Mean Squared Error = \", mean_squared_error(YY_true, YY_preds, squared=True))\n",
    "    print(\"Train Mean Squared Error = \", mean_squared_error(YY_train_true, YY_train_preds, squared=True))"
   ]
  },
  {
   "cell_type": "code",
   "execution_count": 9,
   "id": "5b24af67",
   "metadata": {},
   "outputs": [],
   "source": [
    "def create_ann(neurons_grid):\n",
    "    input_dim = 130\n",
    "    output_dim = 1\n",
    "    \n",
    "    model = Sequential()\n",
    "    model.add(Dense(neurons_grid[0], input_dim=input_dim, activation='relu'))\n",
    "    \n",
    "    for layer in neurons_grid[1:]:\n",
    "        model.add(Dense(layer, activation='relu'))\n",
    "        \n",
    "    model.add(Dense(output_dim))\n",
    "    \n",
    "    model.compile(optimizer = 'adam', loss='mse')\n",
    "    \n",
    "    return model"
   ]
  },
  {
   "cell_type": "code",
   "execution_count": 10,
   "id": "d3aa2298",
   "metadata": {},
   "outputs": [],
   "source": [
    "def create_neuron_grid(neurons_per_layer, layer_cap):\n",
    "    neuron_grid = []\n",
    "    for i in range(1,layer_cap+1):\n",
    "        neuron_grid = neuron_grid + [[neurons_per_layer]*i]\n",
    "    return neuron_grid"
   ]
  },
  {
   "cell_type": "code",
   "execution_count": 11,
   "id": "84466919",
   "metadata": {},
   "outputs": [],
   "source": [
    "def reduce_by_fs_score(XX, YY, threshold):\n",
    "    scores = mutual_info_regression(XX, YY, discrete_features = False)\n",
    "    reduced_XX = XX.drop(XX.columns[np.where(scores < threshold)], axis=1, inplace=False)\n",
    "    return reduced_XX"
   ]
  },
  {
   "cell_type": "code",
   "execution_count": 12,
   "id": "bb87667e",
   "metadata": {},
   "outputs": [],
   "source": [
    "def feature_curve(XX, YY, param_grid, xticks):\n",
    "    n_splits = 5\n",
    "    outer_loop_cv = KFold(n_splits = n_splits, shuffle = True)\n",
    "    outer_val_mse = []\n",
    "    outer_train_mse = []\n",
    "    folds = outer_loop_cv.split(XX)\n",
    "    count = 1\n",
    "    for train, test in folds:\n",
    "        XX_train = XX.iloc[train]\n",
    "        YY_train = YY.iloc[train]\n",
    "        YY_train = YY_train.values.flatten()\n",
    "        \n",
    "        val_scores = []\n",
    "        train_scores = []\n",
    "        for threshold in param_grid:\n",
    "            reduced_XX_train = reduce_by_fs_score(XX_train, YY_train, threshold)\n",
    "            \n",
    "            model = Sequential()\n",
    "            model.add(Dense(14, input_dim=len(reduced_XX_train.columns), activation='relu')) # hidden layer 1\n",
    "            model.add(Dense(14)) #2 \n",
    "            model.add(Dense(14)) #3 \n",
    "            model.add(Dense(14)) #4 \n",
    "            model.add(Dense(14)) #5 \n",
    "            model.add(Dense(14)) #6\n",
    "            model.add(Dense(1))\n",
    "            model.add(Dense(1))\n",
    "            model.compile(optimizer = 'adam', loss='mse')\n",
    "            \n",
    "            callback = tf.keras.callbacks.EarlyStopping(monitor='loss', patience=20)\n",
    "            \n",
    "            history = model.fit(reduced_XX_train, YY_train, epochs=250, validation_split=0.2, batch_size=288, verbose = 0, \n",
    "                 callbacks = [callback])\n",
    "\n",
    "            \n",
    "            val_scores = val_scores + [history.history['val_loss'][history.history['loss'].index(min(history.history['loss']))]]\n",
    "            train_scores = train_scores + [min(history.history['loss'])]\n",
    "\n",
    "        outer_val_mse = outer_val_mse + [val_scores]\n",
    "        outer_train_mse = outer_train_mse + [train_scores]\n",
    "        print('Fold ', count, '/', n_splits, ' Complete.')\n",
    "        count = count + 1\n",
    "        \n",
    "    mean_val_mse = np.mean(np.asarray(outer_val_mse), axis=0)\n",
    "    mean_train_mse = np.mean(np.asarray(outer_train_mse), axis=0)\n",
    "    \n",
    "    plt.figure(figsize=(6,4))\n",
    "    plt.plot(param_grid, mean_train_mse, label='MSE on Training Set')\n",
    "    plt.plot(param_grid, mean_val_mse, label='MSE on Validation Set')\n",
    "    plt.xlim(min(param_grid), max(param_grid))\n",
    "    plt.xticks(xticks)\n",
    "    plt.ylim(0, max(mean_val_mse) + max(mean_val_mse)*0.05)\n",
    "    plt.ylabel('MSE')\n",
    "    plt.xlabel('Mutual Information Score Threshold')\n",
    "    plt.title('ANN performance on varying Mutual Information Score Threshold')\n",
    "    plt.legend()\n",
    "    \n",
    "    print('Best Mutual Information Score Threshold: ', param_grid[np.where(mean_val_mse == (min(mean_val_mse)))[0]])"
   ]
  },
  {
   "cell_type": "markdown",
   "id": "796e3cab",
   "metadata": {},
   "source": [
    "# Baseline ANN without feature selection"
   ]
  },
  {
   "cell_type": "markdown",
   "id": "6b0ea9c4",
   "metadata": {},
   "source": [
    "Learning Curves (Training set size vs MSE)"
   ]
  },
  {
   "cell_type": "code",
   "execution_count": null,
   "id": "cd4076a9",
   "metadata": {},
   "outputs": [],
   "source": [
    "# TODO"
   ]
  },
  {
   "cell_type": "code",
   "execution_count": null,
   "id": "3e2de196",
   "metadata": {},
   "outputs": [],
   "source": [
    "# TODO"
   ]
  },
  {
   "cell_type": "markdown",
   "id": "f3c4cbea",
   "metadata": {},
   "source": [
    "Validation Curves"
   ]
  },
  {
   "cell_type": "code",
   "execution_count": 78,
   "id": "c1a7d710",
   "metadata": {},
   "outputs": [
    {
     "name": "stderr",
     "output_type": "stream",
     "text": [
      "C:\\Users\\Cameron\\anaconda3\\envs\\tf\\lib\\site-packages\\ipykernel_launcher.py:2: DeprecationWarning: KerasRegressor is deprecated, use Sci-Keras (https://github.com/adriangb/scikeras) instead. See https://www.adriangb.com/scikeras/stable/migration.html for help migrating.\n",
      "  \n"
     ]
    },
    {
     "name": "stdout",
     "output_type": "stream",
     "text": [
      "Fold  1 / 5  Complete.\n",
      "Fold  2 / 5  Complete.\n",
      "Fold  3 / 5  Complete.\n",
      "Fold  4 / 5  Complete.\n",
      "Fold  5 / 5  Complete.\n",
      "Best Param:  [14]\n",
      "Time taken:  1345.094591140747\n"
     ]
    },
    {
     "data": {
      "image/png": "[encoded data removed]",
      "text/plain": [
       "<Figure size 432x288 with 1 Axes>"
      ]
     },
     "metadata": {
      "needs_background": "light"
     },
     "output_type": "display_data"
    }
   ],
   "source": [
    "start_time = time.time()\n",
    "model =  KerasRegressor(build_fn=create_ann, verbose = False)  \n",
    "param_grid = {'neurons_grid': [[x] for x in np.arange(2,130,3)]}\n",
    "validation_curve(model, XX, YY, param_grid, False, 'number of \\nneurons for an ANN with 1 hidden layer', \n",
    "                 np.append(np.arange(2,129,10), 129), np.arange(2,130,3), 'Number of Neurons in Hidden Layer')\n",
    "print(\"Time taken: \", time.time() - start_time)"
   ]
  },
  {
   "cell_type": "code",
   "execution_count": 79,
   "id": "77eac3f7",
   "metadata": {},
   "outputs": [
    {
     "name": "stderr",
     "output_type": "stream",
     "text": [
      "C:\\Users\\Cameron\\anaconda3\\envs\\tf\\lib\\site-packages\\ipykernel_launcher.py:2: DeprecationWarning: KerasRegressor is deprecated, use Sci-Keras (https://github.com/adriangb/scikeras) instead. See https://www.adriangb.com/scikeras/stable/migration.html for help migrating.\n",
      "  \n"
     ]
    },
    {
     "name": "stdout",
     "output_type": "stream",
     "text": [
      "Fold  1 / 5  Complete.\n",
      "Fold  2 / 5  Complete.\n",
      "Fold  3 / 5  Complete.\n",
      "Fold  4 / 5  Complete.\n",
      "Fold  5 / 5  Complete.\n",
      "Best Param:  [6]\n",
      "Time taken:  534.4964110851288\n"
     ]
    },
    {
     "data": {
      "image/png": "[encoded data removed]",
      "text/plain": [
       "<Figure size 432x288 with 1 Axes>"
      ]
     },
     "metadata": {
      "needs_background": "light"
     },
     "output_type": "display_data"
    }
   ],
   "source": [
    "start_time = time.time()\n",
    "model =  KerasRegressor(build_fn=create_ann, verbose = False)  \n",
    "param_grid = {'neurons_grid': create_neuron_grid(14,10)}\n",
    "validation_curve(model, XX, YY, param_grid, False, 'number of \\nhidden layers for 14 neurons per hidden layer' , \n",
    "                 np.arange(1,11,1), np.arange(1,11,1), 'Number of Hidden Layers')\n",
    "print(\"Time taken: \", time.time() - start_time)"
   ]
  },
  {
   "cell_type": "markdown",
   "id": "975c5bb4",
   "metadata": {},
   "source": [
    "Predicted vs True"
   ]
  },
  {
   "cell_type": "code",
   "execution_count": 36,
   "id": "ce436279",
   "metadata": {
    "scrolled": false
   },
   "outputs": [
    {
     "name": "stdout",
     "output_type": "stream",
     "text": [
      "Fold  1 / 5  Complete.\n",
      "Fold  2 / 5  Complete.\n",
      "Fold  3 / 5  Complete.\n",
      "Fold  4 / 5  Complete.\n",
      "Fold  5 / 5  Complete.\n",
      "Pearson Correlation Coefficient = 0.5037312883400261\n",
      "Test Mean Squared Error =  132.49331354266096\n",
      "Train Mean Squared Error =  117.72911589165712\n",
      "Time taken:  12.544025897979736\n"
     ]
    },
    {
     "data": {
      "image/png": "[encoded data removed]",
      "text/plain": [
       "<Figure size 504x504 with 1 Axes>"
      ]
     },
     "metadata": {
      "needs_background": "light"
     },
     "output_type": "display_data"
    }
   ],
   "source": [
    "start_time = time.time()\n",
    "model = Sequential()\n",
    "model.add(Dense(14, input_dim=130, activation='relu')) # hidden layer 1\n",
    "model.add(Dense(14)) #2 \n",
    "model.add(Dense(14)) #3 \n",
    "model.add(Dense(14)) #4 \n",
    "model.add(Dense(14)) #5 \n",
    "model.add(Dense(14)) #6\n",
    "model.add(Dense(1))\n",
    "model.compile(optimizer = 'adam', loss='mse')\n",
    "callback = tf.keras.callbacks.EarlyStopping(monitor='loss', patience=20)\n",
    "predicted_vs_true(model, XX, YY, 1000, 0, 288, callback)\n",
    "print(\"Time taken: \", time.time() - start_time)"
   ]
  },
  {
   "cell_type": "markdown",
   "id": "7fe39e1d",
   "metadata": {},
   "source": [
    "# Baseline ANN with Feature Selection"
   ]
  },
  {
   "cell_type": "markdown",
   "id": "714cff3e",
   "metadata": {},
   "source": [
    "Feature Curve"
   ]
  },
  {
   "cell_type": "code",
   "execution_count": 88,
   "id": "4661a98b",
   "metadata": {},
   "outputs": [
    {
     "name": "stdout",
     "output_type": "stream",
     "text": [
      "Fold  1 / 5  Complete.\n",
      "Fold  2 / 5  Complete.\n",
      "Fold  3 / 5  Complete.\n",
      "Fold  4 / 5  Complete.\n",
      "Fold  5 / 5  Complete.\n",
      "Best Mutual Information Score Threshold:  [0.]\n",
      "Time taken:  792.9188063144684\n"
     ]
    },
    {
     "data": {
      "image/png": "[encoded data removed]",
      "text/plain": [
       "<Figure size 432x288 with 1 Axes>"
      ]
     },
     "metadata": {
      "needs_background": "light"
     },
     "output_type": "display_data"
    }
   ],
   "source": [
    "# We use the validation curves from the model without feature selection to choose the structure of the neural network\n",
    "start_time = time.time()\n",
    "feature_curve(XX, YY, np.linspace(0, 0.1, num=20) ,np.linspace(0, 0.10, num=9))\n",
    "print(\"Time taken: \", time.time() - start_time)"
   ]
  },
  {
   "cell_type": "code",
   "execution_count": null,
   "id": "4ad8c22e",
   "metadata": {},
   "outputs": [],
   "source": [
    "best_fs_threshold = 0# from the above feature curve"
   ]
  },
  {
   "cell_type": "markdown",
   "id": "89bd2409",
   "metadata": {},
   "source": [
    "Predicted vs True"
   ]
  },
  {
   "cell_type": "code",
   "execution_count": null,
   "id": "6310f38c",
   "metadata": {},
   "outputs": [],
   "source": [
    "# This will be the same as the predicted vs true from before"
   ]
  },
  {
   "cell_type": "markdown",
   "id": "5a8e81e0",
   "metadata": {},
   "source": [
    "# Appropriateness Dataset with Augmented Data"
   ]
  },
  {
   "cell_type": "code",
   "execution_count": 13,
   "id": "085a0ea5",
   "metadata": {},
   "outputs": [],
   "source": [
    "jerks_path = \"Synthesised_Dataset/Appropriateness_Features/mean_jerk_values.csv\"\n",
    "XX_jerks = pd.read_csv(jerks_path) # With Spine joint and Name of \"Cond/StudySeq\"\n",
    "\n",
    "accels_path = \"Synthesised_Dataset/Appropriateness_Features/mean_acceleration_values.csv\"\n",
    "XX_accels = pd.read_csv(accels_path) # With Spine joint and Name of \"Cond/StudySeq\"\n",
    "\n",
    "pairwise_path = \"Synthesised_Dataset/Appropriateness_Features/mean_pairwise_joint_distances.csv\"\n",
    "XX_pairwise = pd.read_csv(pairwise_path) # With Spine joint and Name of \"Cond/StudySeq\"\n",
    "XX_pairwise.drop(XX_pairwise.columns[range(1,15)], axis=1, inplace=True) # Without Spine Joint but with Name of \"Cond/StudySeq\"\n",
    "\n",
    "rms_properties_path = \"Synthesised_Dataset/Appropriateness_Features/RMS_Energy_properties.csv\"\n",
    "XX_rms_energy_properties = pd.read_csv(rms_properties_path, index_col = False) # With Name of StudySeq\n",
    "\n",
    "rms_distance_path = \"Synthesised_Dataset/Appropriateness_Features/RMS_Distance_scores_fd_scaled.csv\"\n",
    "XX_rms_distance_scores = pd.read_csv(rms_distance_path)\n",
    "XX_rms_distance_scores.drop(XX_rms_distance_scores.columns[1], axis=1, inplace=True) # Dropping the Spine joint (always 0)\n",
    "\n",
    "labels_path = \"Synthesised_Dataset/Appropriateness_Labels/mean_opinion_scores.csv\"\n",
    "YY = pd.read_csv(labels_path) # # With Name of \"Cond/StudySeq\""
   ]
  },
  {
   "cell_type": "code",
   "execution_count": 14,
   "id": "a82b5a62",
   "metadata": {},
   "outputs": [],
   "source": [
    "XY = XX_jerks.join(YY, lsuffix=\"_jerks\", rsuffix=\"_YY\")\n",
    "XY = XY.join(XX_accels, rsuffix='_accels')\n",
    "XY = XY.rename(columns={'Unnamed: 0': 'Unnamed: 0_accels'})\n",
    "XY = XY.join(XX_pairwise, rsuffix='_pairwise')\n",
    "XY = XY.rename(columns={'Unnamed: 0': 'Unnamed: 0_pairwise'})\n",
    "XY = XY.join(XX_rms_distance_scores)\n",
    "XY = XY.rename(columns={'Unnamed: 0': 'Unnamed: 0_rms_distance_scores'})"
   ]
  },
  {
   "cell_type": "code",
   "execution_count": 15,
   "id": "c9dee3db",
   "metadata": {},
   "outputs": [],
   "source": [
    "# Join the RMS Energy Properties Features\n",
    "XY = XY.rename(columns={'Unnamed: 0_jerks': 'StudySeq'})\n",
    "XY['Cond'] = XY['StudySeq'].apply(lambda x: x[:x.index('/')])\n",
    "XY['StudySeq'] = XY['StudySeq'].apply(lambda x: x[x.index('q')+1:]) # Remove info on Cond\n",
    "XY = XY.join(XX_rms_energy_properties, rsuffix='_rms')\n",
    "for i in range(1,int(XY.shape[0]/80)):\n",
    "    XY.iloc[i*80:(i+1)*80,-5:] = XX_rms_energy_properties"
   ]
  },
  {
   "cell_type": "code",
   "execution_count": 16,
   "id": "b7389710",
   "metadata": {},
   "outputs": [
    {
     "name": "stdout",
     "output_type": "stream",
     "text": [
      "(7200, 139)\n"
     ]
    }
   ],
   "source": [
    "# Drop the Names of \"Cond/StudySeq\" and remaining information relating to the \"Spine\" joint\n",
    "# Also Drop the Index from rms_energy\n",
    "XY.drop(['Unnamed: 0_YY','Unnamed: 0_accels', 'Unnamed: 0_pairwise', 'Spine', 'Spine_accels',\n",
    "        'Unnamed: 0_rms_distance_scores', 'Unnamed: 0', 'StudySeq_rms'], axis=1, inplace=True)\n",
    "\n",
    "rename_dict = dict(zip(XY.columns[1:15], XY.columns[1:15] + '_jerks'))\n",
    "XY = XY.rename(columns=rename_dict)\n",
    "\n",
    "# Jerk for 14 joints + Acceleration for 14 joints + 14 choose 2 pairwise distance + 14 RMS Energy Distance Scores + 3 RMS Energy Property Features + Label for MOS = 137\n",
    "print(XY.shape)"
   ]
  },
  {
   "cell_type": "code",
   "execution_count": 17,
   "id": "66aea828",
   "metadata": {},
   "outputs": [],
   "source": [
    "cols = XY.columns.tolist()\n",
    "cols.remove('Cond')\n",
    "cols = ['Cond'] + cols\n",
    "XY = XY[cols]"
   ]
  },
  {
   "cell_type": "code",
   "execution_count": 18,
   "id": "4622acf6",
   "metadata": {},
   "outputs": [
    {
     "name": "stdout",
     "output_type": "stream",
     "text": [
      "(7200, 132)\n",
      "(7200, 3)\n"
     ]
    }
   ],
   "source": [
    "XY['StudySeq'] = pd.to_numeric(XY['StudySeq'])\n",
    "XX = XY.drop(['Mean_Appropriateness_Score'], axis=1, inplace=False)\n",
    "bad_features = ['LeftShoulder_vs_LeftArm', 'LeftArm_vs_LeftForeArm', 'LeftForeArm_vs_LeftHand',\n",
    "                'RightShoulder_vs_RightArm', 'RightArm_vs_RightForeArm','RightForeArm_vs_RightHand']\n",
    "XX.drop(bad_features, axis=1, inplace=True)\n",
    "YY = XY[['Cond', 'StudySeq', 'Mean_Appropriateness_Score']]\n",
    "XX.iloc[:,2:] = np.log(XX.iloc[:,2:])\n",
    "print(XX.shape)\n",
    "print(YY.shape)"
   ]
  },
  {
   "cell_type": "code",
   "execution_count": 19,
   "id": "2be0dec0",
   "metadata": {},
   "outputs": [
    {
     "name": "stdout",
     "output_type": "stream",
     "text": [
      "198.63134441390545\n"
     ]
    },
    {
     "data": {
      "image/png": "[encoded data removed]",
      "text/plain": [
       "<Figure size 432x288 with 1 Axes>"
      ]
     },
     "metadata": {
      "needs_background": "light"
     },
     "output_type": "display_data"
    }
   ],
   "source": [
    "plt.hist(YY['Mean_Appropriateness_Score'], bins = 100)\n",
    "plt.xlim(0,100)\n",
    "plt.xlabel(\"Appropriateness Score\")\n",
    "plt.ylabel(\"Count\")\n",
    "plt.title(\"Distribution of Appropriateness Scores\")\n",
    "var = np.var(YY['Mean_Appropriateness_Score'])\n",
    "print(var)"
   ]
  },
  {
   "cell_type": "code",
   "execution_count": 20,
   "id": "011da5e8",
   "metadata": {},
   "outputs": [
    {
     "data": {
      "text/html": [
       "<div>\n",
       "<style scoped>\n",
       "    .dataframe tbody tr th:only-of-type {\n",
       "        vertical-align: middle;\n",
       "    }\n",
       "\n",
       "    .dataframe tbody tr th {\n",
       "        vertical-align: top;\n",
       "    }\n",
       "\n",
       "    .dataframe thead th {\n",
       "        text-align: right;\n",
       "    }\n",
       "</style>\n",
       "<table border=\"1\" class=\"dataframe\">\n",
       "  <thead>\n",
       "    <tr style=\"text-align: right;\">\n",
       "      <th></th>\n",
       "      <th>StudySeq</th>\n",
       "      <th>Spine1_jerks</th>\n",
       "      <th>Spine2_jerks</th>\n",
       "      <th>Spine3_jerks</th>\n",
       "      <th>LeftShoulder_jerks</th>\n",
       "      <th>LeftArm_jerks</th>\n",
       "      <th>LeftForearm_jerks</th>\n",
       "      <th>LeftHand_jerks</th>\n",
       "      <th>RightShoulder_jerks</th>\n",
       "      <th>RightArm_jerks</th>\n",
       "      <th>...</th>\n",
       "      <th>RightShoulder_RMS_Distance_Score</th>\n",
       "      <th>RightArm_RMS_Distance_Score</th>\n",
       "      <th>RightForeArm_RMS_Distance_Score</th>\n",
       "      <th>RightHand_RMS_Distance_Score</th>\n",
       "      <th>Neck_RMS_Distance_Score</th>\n",
       "      <th>Neck1_RMS_Distance_Score</th>\n",
       "      <th>Head_RMS_Distance_Score</th>\n",
       "      <th>min_RMS_Energy</th>\n",
       "      <th>max_RMS_Energy</th>\n",
       "      <th>mean_RMS_Energy</th>\n",
       "    </tr>\n",
       "  </thead>\n",
       "  <tbody>\n",
       "    <tr>\n",
       "      <th>count</th>\n",
       "      <td>7200.000000</td>\n",
       "      <td>7200.000000</td>\n",
       "      <td>7200.000000</td>\n",
       "      <td>7200.000000</td>\n",
       "      <td>7200.000000</td>\n",
       "      <td>7200.000000</td>\n",
       "      <td>7200.000000</td>\n",
       "      <td>7200.000000</td>\n",
       "      <td>7200.000000</td>\n",
       "      <td>7200.000000</td>\n",
       "      <td>...</td>\n",
       "      <td>7200.000000</td>\n",
       "      <td>7200.000000</td>\n",
       "      <td>7200.000000</td>\n",
       "      <td>7200.000000</td>\n",
       "      <td>7200.000000</td>\n",
       "      <td>7200.000000</td>\n",
       "      <td>7200.000000</td>\n",
       "      <td>7200.000000</td>\n",
       "      <td>7200.000000</td>\n",
       "      <td>7200.000000</td>\n",
       "    </tr>\n",
       "    <tr>\n",
       "      <th>mean</th>\n",
       "      <td>400.500000</td>\n",
       "      <td>7.238224</td>\n",
       "      <td>7.366150</td>\n",
       "      <td>7.502528</td>\n",
       "      <td>7.643845</td>\n",
       "      <td>7.818509</td>\n",
       "      <td>8.371011</td>\n",
       "      <td>8.832591</td>\n",
       "      <td>7.643845</td>\n",
       "      <td>7.818509</td>\n",
       "      <td>...</td>\n",
       "      <td>-0.861053</td>\n",
       "      <td>-0.739701</td>\n",
       "      <td>-0.739745</td>\n",
       "      <td>-0.405888</td>\n",
       "      <td>-0.859546</td>\n",
       "      <td>-0.875652</td>\n",
       "      <td>-0.864515</td>\n",
       "      <td>-3.696289</td>\n",
       "      <td>-0.866533</td>\n",
       "      <td>-1.614794</td>\n",
       "    </tr>\n",
       "    <tr>\n",
       "      <th>std</th>\n",
       "      <td>230.955966</td>\n",
       "      <td>0.700900</td>\n",
       "      <td>0.544234</td>\n",
       "      <td>0.469295</td>\n",
       "      <td>0.428828</td>\n",
       "      <td>0.392611</td>\n",
       "      <td>0.479328</td>\n",
       "      <td>0.461389</td>\n",
       "      <td>0.428828</td>\n",
       "      <td>0.392611</td>\n",
       "      <td>...</td>\n",
       "      <td>0.242335</td>\n",
       "      <td>0.294201</td>\n",
       "      <td>0.206041</td>\n",
       "      <td>0.223511</td>\n",
       "      <td>0.246200</td>\n",
       "      <td>0.254507</td>\n",
       "      <td>0.266081</td>\n",
       "      <td>0.797139</td>\n",
       "      <td>0.272385</td>\n",
       "      <td>0.289059</td>\n",
       "    </tr>\n",
       "    <tr>\n",
       "      <th>min</th>\n",
       "      <td>1.000000</td>\n",
       "      <td>3.655330</td>\n",
       "      <td>4.439885</td>\n",
       "      <td>4.900368</td>\n",
       "      <td>5.196570</td>\n",
       "      <td>5.435678</td>\n",
       "      <td>6.282438</td>\n",
       "      <td>6.804531</td>\n",
       "      <td>5.196570</td>\n",
       "      <td>5.435678</td>\n",
       "      <td>...</td>\n",
       "      <td>-4.605170</td>\n",
       "      <td>-4.605170</td>\n",
       "      <td>-4.605170</td>\n",
       "      <td>-4.605170</td>\n",
       "      <td>-4.605170</td>\n",
       "      <td>-4.605170</td>\n",
       "      <td>-4.605170</td>\n",
       "      <td>-5.366736</td>\n",
       "      <td>-1.395301</td>\n",
       "      <td>-2.128564</td>\n",
       "    </tr>\n",
       "    <tr>\n",
       "      <th>25%</th>\n",
       "      <td>200.750000</td>\n",
       "      <td>7.379390</td>\n",
       "      <td>7.453055</td>\n",
       "      <td>7.553634</td>\n",
       "      <td>7.668211</td>\n",
       "      <td>7.792639</td>\n",
       "      <td>8.063996</td>\n",
       "      <td>8.517175</td>\n",
       "      <td>7.668211</td>\n",
       "      <td>7.792639</td>\n",
       "      <td>...</td>\n",
       "      <td>-0.913916</td>\n",
       "      <td>-0.775950</td>\n",
       "      <td>-0.748576</td>\n",
       "      <td>-0.413352</td>\n",
       "      <td>-0.917868</td>\n",
       "      <td>-0.939943</td>\n",
       "      <td>-0.928811</td>\n",
       "      <td>-4.170783</td>\n",
       "      <td>-1.030628</td>\n",
       "      <td>-1.822282</td>\n",
       "    </tr>\n",
       "    <tr>\n",
       "      <th>50%</th>\n",
       "      <td>400.500000</td>\n",
       "      <td>7.420968</td>\n",
       "      <td>7.500836</td>\n",
       "      <td>7.606680</td>\n",
       "      <td>7.729511</td>\n",
       "      <td>7.864279</td>\n",
       "      <td>8.241831</td>\n",
       "      <td>8.749755</td>\n",
       "      <td>7.729511</td>\n",
       "      <td>7.864279</td>\n",
       "      <td>...</td>\n",
       "      <td>-0.854643</td>\n",
       "      <td>-0.719838</td>\n",
       "      <td>-0.732253</td>\n",
       "      <td>-0.399288</td>\n",
       "      <td>-0.851712</td>\n",
       "      <td>-0.866712</td>\n",
       "      <td>-0.853659</td>\n",
       "      <td>-3.590974</td>\n",
       "      <td>-0.886227</td>\n",
       "      <td>-1.608296</td>\n",
       "    </tr>\n",
       "    <tr>\n",
       "      <th>75%</th>\n",
       "      <td>600.250000</td>\n",
       "      <td>7.463648</td>\n",
       "      <td>7.556748</td>\n",
       "      <td>7.674101</td>\n",
       "      <td>7.799836</td>\n",
       "      <td>7.980365</td>\n",
       "      <td>8.621657</td>\n",
       "      <td>9.125945</td>\n",
       "      <td>7.799836</td>\n",
       "      <td>7.980365</td>\n",
       "      <td>...</td>\n",
       "      <td>-0.788465</td>\n",
       "      <td>-0.650370</td>\n",
       "      <td>-0.714421</td>\n",
       "      <td>-0.383054</td>\n",
       "      <td>-0.782840</td>\n",
       "      <td>-0.790458</td>\n",
       "      <td>-0.780005</td>\n",
       "      <td>-3.330635</td>\n",
       "      <td>-0.686539</td>\n",
       "      <td>-1.348266</td>\n",
       "    </tr>\n",
       "    <tr>\n",
       "      <th>max</th>\n",
       "      <td>800.000000</td>\n",
       "      <td>7.964174</td>\n",
       "      <td>7.989612</td>\n",
       "      <td>8.100524</td>\n",
       "      <td>8.316989</td>\n",
       "      <td>8.586239</td>\n",
       "      <td>9.852115</td>\n",
       "      <td>10.339779</td>\n",
       "      <td>8.316989</td>\n",
       "      <td>8.586239</td>\n",
       "      <td>...</td>\n",
       "      <td>0.009950</td>\n",
       "      <td>0.009950</td>\n",
       "      <td>0.009950</td>\n",
       "      <td>0.009950</td>\n",
       "      <td>0.009950</td>\n",
       "      <td>0.009950</td>\n",
       "      <td>0.009950</td>\n",
       "      <td>-2.109763</td>\n",
       "      <td>-0.139434</td>\n",
       "      <td>-1.058574</td>\n",
       "    </tr>\n",
       "  </tbody>\n",
       "</table>\n",
       "<p>8 rows × 131 columns</p>\n",
       "</div>"
      ],
      "text/plain": [
       "          StudySeq  Spine1_jerks  Spine2_jerks  Spine3_jerks  \\\n",
       "count  7200.000000   7200.000000   7200.000000   7200.000000   \n",
       "mean    400.500000      7.238224      7.366150      7.502528   \n",
       "std     230.955966      0.700900      0.544234      0.469295   \n",
       "min       1.000000      3.655330      4.439885      4.900368   \n",
       "25%     200.750000      7.379390      7.453055      7.553634   \n",
       "50%     400.500000      7.420968      7.500836      7.606680   \n",
       "75%     600.250000      7.463648      7.556748      7.674101   \n",
       "max     800.000000      7.964174      7.989612      8.100524   \n",
       "\n",
       "       LeftShoulder_jerks  LeftArm_jerks  LeftForearm_jerks  LeftHand_jerks  \\\n",
       "count         7200.000000    7200.000000        7200.000000     7200.000000   \n",
       "mean             7.643845       7.818509           8.371011        8.832591   \n",
       "std              0.428828       0.392611           0.479328        0.461389   \n",
       "min              5.196570       5.435678           6.282438        6.804531   \n",
       "25%              7.668211       7.792639           8.063996        8.517175   \n",
       "50%              7.729511       7.864279           8.241831        8.749755   \n",
       "75%              7.799836       7.980365           8.621657        9.125945   \n",
       "max              8.316989       8.586239           9.852115       10.339779   \n",
       "\n",
       "       RightShoulder_jerks  RightArm_jerks  ...  \\\n",
       "count          7200.000000     7200.000000  ...   \n",
       "mean              7.643845        7.818509  ...   \n",
       "std               0.428828        0.392611  ...   \n",
       "min               5.196570        5.435678  ...   \n",
       "25%               7.668211        7.792639  ...   \n",
       "50%               7.729511        7.864279  ...   \n",
       "75%               7.799836        7.980365  ...   \n",
       "max               8.316989        8.586239  ...   \n",
       "\n",
       "       RightShoulder_RMS_Distance_Score  RightArm_RMS_Distance_Score  \\\n",
       "count                       7200.000000                  7200.000000   \n",
       "mean                          -0.861053                    -0.739701   \n",
       "std                            0.242335                     0.294201   \n",
       "min                           -4.605170                    -4.605170   \n",
       "25%                           -0.913916                    -0.775950   \n",
       "50%                           -0.854643                    -0.719838   \n",
       "75%                           -0.788465                    -0.650370   \n",
       "max                            0.009950                     0.009950   \n",
       "\n",
       "       RightForeArm_RMS_Distance_Score  RightHand_RMS_Distance_Score  \\\n",
       "count                      7200.000000                   7200.000000   \n",
       "mean                         -0.739745                     -0.405888   \n",
       "std                           0.206041                      0.223511   \n",
       "min                          -4.605170                     -4.605170   \n",
       "25%                          -0.748576                     -0.413352   \n",
       "50%                          -0.732253                     -0.399288   \n",
       "75%                          -0.714421                     -0.383054   \n",
       "max                           0.009950                      0.009950   \n",
       "\n",
       "       Neck_RMS_Distance_Score  Neck1_RMS_Distance_Score  \\\n",
       "count              7200.000000               7200.000000   \n",
       "mean                 -0.859546                 -0.875652   \n",
       "std                   0.246200                  0.254507   \n",
       "min                  -4.605170                 -4.605170   \n",
       "25%                  -0.917868                 -0.939943   \n",
       "50%                  -0.851712                 -0.866712   \n",
       "75%                  -0.782840                 -0.790458   \n",
       "max                   0.009950                  0.009950   \n",
       "\n",
       "       Head_RMS_Distance_Score  min_RMS_Energy  max_RMS_Energy  \\\n",
       "count              7200.000000     7200.000000     7200.000000   \n",
       "mean                 -0.864515       -3.696289       -0.866533   \n",
       "std                   0.266081        0.797139        0.272385   \n",
       "min                  -4.605170       -5.366736       -1.395301   \n",
       "25%                  -0.928811       -4.170783       -1.030628   \n",
       "50%                  -0.853659       -3.590974       -0.886227   \n",
       "75%                  -0.780005       -3.330635       -0.686539   \n",
       "max                   0.009950       -2.109763       -0.139434   \n",
       "\n",
       "       mean_RMS_Energy  \n",
       "count      7200.000000  \n",
       "mean         -1.614794  \n",
       "std           0.289059  \n",
       "min          -2.128564  \n",
       "25%          -1.822282  \n",
       "50%          -1.608296  \n",
       "75%          -1.348266  \n",
       "max          -1.058574  \n",
       "\n",
       "[8 rows x 131 columns]"
      ]
     },
     "execution_count": 20,
     "metadata": {},
     "output_type": "execute_result"
    }
   ],
   "source": [
    "XX.describe()"
   ]
  },
  {
   "cell_type": "markdown",
   "id": "83f8540e",
   "metadata": {},
   "source": [
    "# Functions"
   ]
  },
  {
   "cell_type": "code",
   "execution_count": 21,
   "id": "ff119cac",
   "metadata": {},
   "outputs": [],
   "source": [
    "# studyseqs_to_keep should be a list of the studyseq indexes to keep (e.g. [1,2,3,4....,40] for the original unaugmented data)\n",
    "def reduce_dataset_size(XX, YY, studyseqs_to_keep):\n",
    "    reduced_XX = XX[XX['StudySeq'].isin(studyseqs_to_keep)]\n",
    "    reduced_YY = YY[YY['StudySeq'].isin(studyseqs_to_keep)]\n",
    "    return reduced_XX, reduced_YY"
   ]
  },
  {
   "cell_type": "code",
   "execution_count": 22,
   "id": "9cade1b8",
   "metadata": {},
   "outputs": [],
   "source": [
    "def split_by_cond(XX, YY, cond_to_split):\n",
    "    reduced_XX = XX[XX['Cond'].isin([cond_to_split]) == False]\n",
    "    reduced_YY = YY[YY['Cond'].isin([cond_to_split]) == False]\n",
    "    cond_XX = XX[XX['Cond'].isin([cond_to_split])]\n",
    "    cond_YY = YY[YY['Cond'].isin([cond_to_split])]\n",
    "    return reduced_XX, reduced_YY, cond_XX, cond_YY"
   ]
  },
  {
   "cell_type": "code",
   "execution_count": 23,
   "id": "d13ef3a4",
   "metadata": {},
   "outputs": [],
   "source": [
    "def get_rand_studyseqs(duplicates_to_keep):\n",
    "    iteration = [x for x in range(1,20)]\n",
    "    random.shuffle(iteration)\n",
    "    studyseqs_to_keep = [x for x in range(1,41)]\n",
    "    for i in range(0,duplicates_to_keep):\n",
    "        start_idx = (iteration[i]*40)+1\n",
    "        end_idx = ((iteration[i]+1)*40)+1\n",
    "        studyseqs_to_keep = studyseqs_to_keep + [x for x in range(start_idx,end_idx)] \n",
    "    return studyseqs_to_keep"
   ]
  },
  {
   "cell_type": "code",
   "execution_count": 24,
   "id": "55f671ee",
   "metadata": {},
   "outputs": [],
   "source": [
    "def leave_one_out_folds(XX, YY, conds):\n",
    "    cv_splits = []\n",
    "    XX.index = np.arange(0, len(XX))\n",
    "    for cond in conds:\n",
    "        train_index = XX[XX['Cond'].isin([cond]) == False].index\n",
    "        val_index = XX[XX['Cond'].isin([cond])].index[:40]\n",
    "        split = (train_index.to_numpy(), val_index.to_numpy())\n",
    "        cv_splits = cv_splits + [split]\n",
    "    return cv_splits"
   ]
  },
  {
   "cell_type": "code",
   "execution_count": 25,
   "id": "16299ad5",
   "metadata": {},
   "outputs": [],
   "source": [
    "def single_leave_one_out_fold(XX, YY, val_cond):\n",
    "    train_index = XX[XX['Cond'].isin([val_cond]) == False].index\n",
    "    val_index = XX[XX['Cond'].isin([val_cond])].index[:40] # We don't want to change the validation and test set size with data augmentation\n",
    "    cv_split = [(train_index.to_numpy(), val_index.to_numpy())]\n",
    "    return cv_split"
   ]
  },
  {
   "cell_type": "code",
   "execution_count": 26,
   "id": "8a8bf0a6",
   "metadata": {},
   "outputs": [],
   "source": [
    "# Performs k-fold cross validation to find the best train set size\n",
    "def learning_curve(XX, YY, anti_overfit):\n",
    "    pd.options.mode.chained_assignment = None\n",
    "    Conds = ['Cond_BA', 'Cond_BT', 'Cond_N', 'Cond_M', 'Cond_SA', 'Cond_SB', 'Cond_SC', 'Cond_SD', 'Cond_SE']\n",
    "    standard_iteration = [x for x in range(1,20)] # The iteration over which we add/remove data\n",
    "    num_of_shuffles = 2\n",
    "    \n",
    "    shuffled_train_mse = []\n",
    "    shuffled_val_mse = []\n",
    "    shuffled_sizes = []\n",
    "    for n in range(num_of_shuffles):\n",
    "        random.shuffle(standard_iteration)\n",
    "        train_mse_vals = []\n",
    "        mse_vals = []\n",
    "        size_vals = []\n",
    "        for outer_cond in Conds:\n",
    "            XX_train, YY_train, XX_cond, YY_cond = split_by_cond(XX, YY, outer_cond)\n",
    "            remaining_conds = Conds[:]\n",
    "            remaining_conds.remove(outer_cond)\n",
    "\n",
    "            outer_train_mse_vals = []\n",
    "            outer_mse_vals = []\n",
    "            outer_size_vals = []\n",
    "            for inner_cond in remaining_conds: # performing k fold cross validation holding out one cond on each fold\n",
    "                split_XX_train, split_YY_train, XX_val, YY_val = split_by_cond(XX_train, YY_train, inner_cond)\n",
    "                inner_train_mse_vals = []\n",
    "                inner_mse_vals = []\n",
    "                inner_size_vals = []\n",
    "                studyseqs_to_keep = [x for x in range(1,41)]\n",
    "                for i in standard_iteration + ['end']: # we should never reach the 'end'\n",
    "                    reduced_XX_train, reduced_YY_train = reduce_dataset_size(split_XX_train, split_YY_train, studyseqs_to_keep)\n",
    "                    reduced_XX_val, reduced_YY_val = reduce_dataset_size(XX_val, YY_val, [x for x in range(1,41)]) # Don't change the validation set size\n",
    "\n",
    "                    # drop the StudySeq and Cond columns\n",
    "                    reduced_XX_train.drop(['Cond','StudySeq'], inplace=True, axis=1)\n",
    "                    reduced_YY_train.drop(['Cond','StudySeq'], inplace=True, axis=1)\n",
    "                    reduced_XX_val.drop(['Cond','StudySeq'], inplace=True, axis=1)\n",
    "                    reduced_YY_val.drop(['Cond','StudySeq'], inplace=True, axis=1)\n",
    "\n",
    "                    reduced_YY_train = reduced_YY_train.values.flatten()\n",
    "                    reduced_YY_val = reduced_YY_val.values.flatten()\n",
    "                    \n",
    "                    model = Sequential()\n",
    "                    model.add(Dense(14, input_dim=len(reduced_XX_train.columns), activation='relu')) # hidden layer 1\n",
    "                    model.add(Dense(14)) #2 \n",
    "                    model.add(Dense(14)) #3 \n",
    "                    model.add(Dense(14)) #4 \n",
    "                    model.add(Dense(14)) #5 \n",
    "                    model.add(Dense(14)) #6\n",
    "                    model.add(Dense(1))\n",
    "                    model.add(Dense(1))\n",
    "                    model.compile(optimizer = 'adam', loss='mse')\n",
    "\n",
    "                    callback = tf.keras.callbacks.EarlyStopping(monitor='loss', patience=20)\n",
    "\n",
    "                    history = model.fit(reduced_XX_train, reduced_YY_train, epochs=250,\n",
    "                                        validation_data=(reduced_XX_val, reduced_YY_val), \n",
    "                                        batch_size=len(reduced_XX_train.index),\n",
    "                                        verbose = 0, callbacks = [callback])\n",
    "                    \n",
    "\n",
    "\n",
    "                    train_mse = min(history.history['loss'])\n",
    "                    inner_train_mse_vals = inner_train_mse_vals + [train_mse]\n",
    "                    mse = history.history['val_loss'][history.history['loss'].index(min(history.history['loss']))]\n",
    "                    inner_mse_vals = inner_mse_vals + [mse]\n",
    "\n",
    "                    train_size = len(reduced_XX_train.index)\n",
    "                    inner_size_vals = inner_size_vals + [train_size]\n",
    "                    if (i != 'end'):\n",
    "                        start_idx = (i*40)+1\n",
    "                        end_idx = ((i+1)*40)+1\n",
    "                        studyseqs_to_keep = studyseqs_to_keep + [x for x in range(start_idx,end_idx)] # add next bit of data\n",
    "                #print(outer_cond, inner_cond, [int(x) for x in inner_mse_vals])\n",
    "                if (anti_overfit == True):\n",
    "                    if (not(inner_cond == 'Cond_N' and outer_cond == 'Cond_M') and not(inner_cond =='Cond_M' and outer_cond == 'Cond_N')):\n",
    "                        outer_train_mse_vals = outer_train_mse_vals + [inner_train_mse_vals]\n",
    "                        outer_mse_vals = outer_mse_vals + [inner_mse_vals]\n",
    "                        outer_size_vals = outer_size_vals + [inner_size_vals]\n",
    "                else:\n",
    "                    outer_train_mse_vals = outer_train_mse_vals + [inner_train_mse_vals]\n",
    "                    outer_mse_vals = outer_mse_vals + [inner_mse_vals]\n",
    "                    outer_size_vals = outer_size_vals + [inner_size_vals]\n",
    "            train_mse_vals = train_mse_vals + [np.mean(np.asarray(outer_train_mse_vals), axis=0)]\n",
    "            mse_vals = mse_vals + [np.mean(np.asarray(outer_mse_vals), axis=0)]\n",
    "            size_vals = size_vals + [np.mean(np.asarray(outer_size_vals), axis=0)]\n",
    "            print('Shuffle: ', str(n+1), '/', str(num_of_shuffles), ' Outer Cond:', \n",
    "                  str(Conds.index(outer_cond)+1), '/', str(len(Conds)))\n",
    "        #for i in range(0, len(mse_vals)):\n",
    "            #plt.plot(size_vals[i], mse_vals[i], label=Conds[i] + ' held out of training set')\n",
    "    \n",
    "        train_mse_vals = np.mean(np.asarray(train_mse_vals), axis=0)\n",
    "        mse_vals = np.mean(np.asarray(mse_vals), axis=0)\n",
    "        size_vals = np.mean(np.asarray(size_vals), axis=0)\n",
    "        \n",
    "        shuffled_train_mse = shuffled_train_mse + [train_mse_vals]\n",
    "        shuffled_val_mse = shuffled_val_mse + [mse_vals]\n",
    "        shuffled_sizes = shuffled_sizes + [size_vals]\n",
    "\n",
    "    mean_train_mse = np.mean(np.asarray(shuffled_train_mse), axis=0)\n",
    "    mean_val_mse = np.mean(np.asarray(shuffled_val_mse), axis=0)\n",
    "    mean_sizes = np.mean(np.asarray(shuffled_sizes), axis=0)\n",
    "    \n",
    "    train_mse_sem = sem(np.asarray(shuffled_train_mse), axis=0)\n",
    "    val_mse_sem = sem(np.asarray(shuffled_val_mse), axis=0)\n",
    "    \n",
    "    plt.plot(np.arange(0,20,1), mean_train_mse, label='Training Set MSE')\n",
    "    plt.fill_between(np.arange(0,20,1), mean_train_mse - train_mse_sem, mean_train_mse + train_mse_sem, alpha=0.5)\n",
    "    plt.plot(np.arange(0,20,1), mean_val_mse, label='Validation Set MSE')\n",
    "    plt.fill_between(np.arange(0,20,1), mean_val_mse - val_mse_sem, mean_val_mse + val_mse_sem, alpha=0.5)\n",
    "    plt.ylim(0, max([max(mean_train_mse), max(mean_val_mse)]) + max([max(train_mse_sem), max(val_mse_sem)]))\n",
    "    plt.xlim(0,19)\n",
    "    plt.xticks(np.arange(0,20,1))\n",
    "    plt.xlabel('Number of Augmented Sets')\n",
    "    plt.ylabel('MSE')\n",
    "    plt.title('ANN performance\\n on different Training Set sizes')\n",
    "    plt.legend()\n",
    "    \n",
    "    best_size = mean_sizes[np.argmin(mean_val_mse)]\n",
    "    best_duplicates_to_keep = np.argmin(mean_val_mse)\n",
    "    print('Best Train Set Size (Excluding validation set of same proportion) = ', best_size)\n",
    "    print('Duplicates to keep = ', best_duplicates_to_keep)\n",
    "    return best_duplicates_to_keep, best_size"
   ]
  },
  {
   "cell_type": "code",
   "execution_count": 27,
   "id": "6834d3e1",
   "metadata": {},
   "outputs": [],
   "source": [
    "# Model name is just the type of algorithm e.g. Linear Regression or kNN\n",
    "def predicted_vs_true(model, XX, YY, best_duplicates_to_keep, anti_overfit):\n",
    "    Conds = ['Cond_BA', 'Cond_BT', 'Cond_N', 'Cond_M', 'Cond_SA', 'Cond_SB', 'Cond_SC', 'Cond_SD', 'Cond_SE']\n",
    "    XX_reduced, YY_reduced = reduce_dataset_size(XX, YY, get_rand_studyseqs(best_duplicates_to_keep))\n",
    "    YY_preds = []\n",
    "    YY_test_true = []\n",
    "    YY_train_preds = []\n",
    "    YY_train_true = []\n",
    "    count = 1\n",
    "    model.save_weights('initial_hl.h5')\n",
    "    for cond in Conds: # kfolds for testing\n",
    "        model.load_weights('initial_hl.h5')\n",
    "        XX_train, YY_train, XX_test, YY_test = split_by_cond(XX_reduced, YY_reduced, cond)\n",
    "        \n",
    "        if (anti_overfit == True):\n",
    "            if (cond == 'Cond_N' or cond == 'Cond_M'):\n",
    "                # Make sure one of Cond_N or Cond_M is always in the train set\n",
    "                train_val_conds = Conds[:]\n",
    "                train_val_conds.remove('Cond_N')\n",
    "                train_val_conds.remove('Cond_M')\n",
    "            else: \n",
    "                train_val_conds = Conds[:]\n",
    "                train_val_conds.remove(cond)\n",
    "        else:\n",
    "            train_val_conds = Conds[:]\n",
    "            train_val_conds.remove(cond)\n",
    "\n",
    "\n",
    "        \n",
    "        # Data augmentation does not change the test and validation set\n",
    "        XX_train, YY_train, XX_test, YY_test = XX_train.iloc[:,2:], YY_train.iloc[:,2:], XX_test.iloc[:40,2:], YY_test.iloc[:40,2:] # drop studyseq idx and cond columns\n",
    "        YY_train, YY_test = YY_train.values.flatten(), YY_test.values.flatten()\n",
    "        \n",
    "        callback = tf.keras.callbacks.EarlyStopping(monitor='loss', patience=20)\n",
    "\n",
    "        model.fit(XX_train, YY_train, epochs=1000, validation_split=0, batch_size=len(XX_train.index), verbose = 0, \n",
    "                 callbacks = [callback])\n",
    "        YY_pred = model.predict(XX_test)\n",
    "        YY_preds = YY_preds + list(YY_pred.flatten())\n",
    "        YY_test_true = YY_test_true + list(YY_test)\n",
    "        \n",
    "        YY_train_preds = YY_train_preds + list(model.predict(XX_train).flatten())\n",
    "        YY_train_true = YY_train_true + list(YY_train)\n",
    "        \n",
    "        print('Outer Fold ', count, '/', 9, ' completed.')\n",
    "        count = count + 1\n",
    "    YY_train_preds = np.clip(YY_train_preds, 0, 100)\n",
    "    YY_preds = np.clip(YY_preds, 0, 100)\n",
    "    m, b = np.polyfit(YY_preds, YY_test_true, 1)\n",
    "    x = np.arange(0,101)\n",
    "    y = np.arange(0,101)\n",
    "\n",
    "\n",
    "\n",
    "    plt.figure(figsize = (7,7))\n",
    "    plt.scatter(YY_preds, YY_test_true, s=7.5, alpha=0.8, label=\"Predictions\")\n",
    "    plt.plot(x, y*m + b, '-c', label=\"Regression Line for predictions\")\n",
    "    plt.plot(x, y, \"-k\", label=\"Regression Line for p=1\", alpha=0.5)\n",
    "    plt.title(\"Predictions of ANN on Test Set\")\n",
    "    plt.ylabel(\"True Appropriateness\")\n",
    "    plt.xlabel(\"Predicted Appropriateness\")\n",
    "    plt.xticks(np.linspace(0,100,11))\n",
    "    plt.yticks(np.linspace(0,100,11))\n",
    "    plt.xlim(0,100)\n",
    "    plt.ylim(0,100)\n",
    "    plt.legend()\n",
    "\n",
    "    rho, pval = stats.spearmanr(YY_test_true, YY_preds)\n",
    "    print(\"Pearson Correlation Coefficient =\", rho)\n",
    "    print(\"Test Mean Squared Error = \", mean_squared_error(YY_test_true, YY_preds, squared=True))\n",
    "    print(\"Train Mean Squared Error = \", mean_squared_error(YY_train_true, YY_train_preds, squared=True))"
   ]
  },
  {
   "cell_type": "markdown",
   "id": "6149b2f7",
   "metadata": {},
   "source": [
    "Augmented Sets vs MSE"
   ]
  },
  {
   "cell_type": "code",
   "execution_count": 52,
   "id": "1a16f5bd",
   "metadata": {
    "scrolled": true
   },
   "outputs": [
    {
     "name": "stdout",
     "output_type": "stream",
     "text": [
      "Shuffle:  1 / 2  Outer Cond: 1 / 9\n",
      "Shuffle:  1 / 2  Outer Cond: 2 / 9\n",
      "Shuffle:  1 / 2  Outer Cond: 3 / 9\n",
      "Shuffle:  1 / 2  Outer Cond: 4 / 9\n",
      "Shuffle:  1 / 2  Outer Cond: 5 / 9\n",
      "Shuffle:  1 / 2  Outer Cond: 6 / 9\n",
      "Shuffle:  1 / 2  Outer Cond: 7 / 9\n",
      "Shuffle:  1 / 2  Outer Cond: 8 / 9\n",
      "Shuffle:  1 / 2  Outer Cond: 9 / 9\n",
      "Shuffle:  2 / 2  Outer Cond: 1 / 9\n",
      "Shuffle:  2 / 2  Outer Cond: 2 / 9\n",
      "Shuffle:  2 / 2  Outer Cond: 3 / 9\n",
      "Shuffle:  2 / 2  Outer Cond: 4 / 9\n",
      "Shuffle:  2 / 2  Outer Cond: 5 / 9\n",
      "Shuffle:  2 / 2  Outer Cond: 6 / 9\n",
      "Shuffle:  2 / 2  Outer Cond: 7 / 9\n",
      "Shuffle:  2 / 2  Outer Cond: 8 / 9\n",
      "Shuffle:  2 / 2  Outer Cond: 9 / 9\n",
      "Best Train Set Size (Excluding validation set of same proportion) =  1960.0\n",
      "Duplicates to keep =  6\n"
     ]
    },
    {
     "data": {
      "text/plain": [
       "(6, 1960.0)"
      ]
     },
     "execution_count": 52,
     "metadata": {},
     "output_type": "execute_result"
    },
    {
     "data": {
      "image/png": "[encoded data removed]",
      "text/plain": [
       "<Figure size 432x288 with 1 Axes>"
      ]
     },
     "metadata": {
      "needs_background": "light"
     },
     "output_type": "display_data"
    }
   ],
   "source": [
    "learning_curve(XX, YY, True) "
   ]
  },
  {
   "cell_type": "code",
   "execution_count": 28,
   "id": "492940dd",
   "metadata": {},
   "outputs": [],
   "source": [
    "best_duplicates_to_keep = 6 "
   ]
  },
  {
   "cell_type": "markdown",
   "id": "4f59618c",
   "metadata": {},
   "source": [
    "Predicted vs True with Best Duplicates to keep"
   ]
  },
  {
   "cell_type": "code",
   "execution_count": 29,
   "id": "f63bef72",
   "metadata": {},
   "outputs": [
    {
     "name": "stdout",
     "output_type": "stream",
     "text": [
      "Outer Fold  1 / 9  completed.\n",
      "Outer Fold  2 / 9  completed.\n",
      "Outer Fold  3 / 9  completed.\n",
      "Outer Fold  4 / 9  completed.\n",
      "Outer Fold  5 / 9  completed.\n",
      "Outer Fold  6 / 9  completed.\n",
      "Outer Fold  7 / 9  completed.\n",
      "Outer Fold  8 / 9  completed.\n",
      "Outer Fold  9 / 9  completed.\n",
      "Pearson Correlation Coefficient = -0.2642251248677368\n",
      "Test Mean Squared Error =  272.8995584727767\n",
      "Train Mean Squared Error =  172.93777605737293\n",
      "Time taken:  29.351210832595825\n"
     ]
    },
    {
     "data": {
      "image/png": "[encoded data removed]",
      "text/plain": [
       "<Figure size 504x504 with 1 Axes>"
      ]
     },
     "metadata": {
      "needs_background": "light"
     },
     "output_type": "display_data"
    }
   ],
   "source": [
    "start_time = time.time()\n",
    "model = Sequential()\n",
    "model.add(Dense(14, input_dim=130, activation='relu')) # hidden layer 1\n",
    "model.add(Dense(14)) #2 \n",
    "model.add(Dense(14)) #3 \n",
    "model.add(Dense(14)) #4 \n",
    "model.add(Dense(14)) #5 \n",
    "model.add(Dense(14)) #6\n",
    "model.add(Dense(1))\n",
    "model.compile(optimizer = 'adam', loss='mse')\n",
    "predicted_vs_true(model, XX, YY, best_duplicates_to_keep, True)\n",
    "print(\"Time taken: \", time.time() - start_time)"
   ]
  },
  {
   "cell_type": "markdown",
   "id": "a8d7da4e",
   "metadata": {},
   "source": [
    "Predicted vs True with 1 augmented set"
   ]
  },
  {
   "cell_type": "code",
   "execution_count": 19,
   "id": "79d1904c",
   "metadata": {},
   "outputs": [
    {
     "name": "stdout",
     "output_type": "stream",
     "text": [
      "Outer Fold  1 / 9  completed.\n",
      "Outer Fold  2 / 9  completed.\n",
      "Outer Fold  3 / 9  completed.\n",
      "Outer Fold  4 / 9  completed.\n",
      "Outer Fold  5 / 9  completed.\n",
      "Outer Fold  6 / 9  completed.\n",
      "Outer Fold  7 / 9  completed.\n",
      "Outer Fold  8 / 9  completed.\n",
      "Outer Fold  9 / 9  completed.\n",
      "Pearson Correlation Coefficient = 0.01811833910360077\n",
      "Test Mean Squared Error =  217.29089555887893\n",
      "Train Mean Squared Error =  177.0837300524348\n",
      "Time taken:  21.57977533340454\n"
     ]
    },
    {
     "data": {
      "image/png": "[encoded data removed]",
      "text/plain": [
       "<Figure size 504x504 with 1 Axes>"
      ]
     },
     "metadata": {
      "needs_background": "light"
     },
     "output_type": "display_data"
    }
   ],
   "source": [
    "start_time = time.time()\n",
    "model = Sequential()\n",
    "model.add(Dense(14, input_dim=130, activation='relu')) # hidden layer 1\n",
    "model.add(Dense(14)) #2 \n",
    "model.add(Dense(14)) #3 \n",
    "model.add(Dense(14)) #4 \n",
    "model.add(Dense(14)) #5 \n",
    "model.add(Dense(14)) #6\n",
    "model.add(Dense(1))\n",
    "model.compile(optimizer = 'adam', loss='mse')\n",
    "predicted_vs_true(model, XX, YY, 1, True)\n",
    "print(\"Time taken: \", time.time() - start_time)"
   ]
  },
  {
   "cell_type": "code",
   "execution_count": null,
   "id": "fd8b9e7e",
   "metadata": {},
   "outputs": [],
   "source": []
  }
 ],
 "metadata": {
  "kernelspec": {
   "display_name": "Python 3",
   "language": "python",
   "name": "python3"
  },
  "language_info": {
   "codemirror_mode": {
    "name": "ipython",
    "version": 3
   },
   "file_extension": ".py",
   "mimetype": "text/x-python",
   "name": "python",
   "nbconvert_exporter": "python",
   "pygments_lexer": "ipython3",
   "version": "3.8.8"
  }
 },
 "nbformat": 4,
 "nbformat_minor": 5
}
